{
 "cells": [
  {
   "cell_type": "markdown",
   "metadata": {},
   "source": [
    "DP算法通常步骤：\n",
    "1. 刻画一个最优解的结构特征\n",
    "2. 递归定义最优解的值\n",
    "3. 计算最优解的值，通常采用自底向上的方法\n",
    "4. 利用计算出的信息构造一个最优解"
   ]
  },
  {
   "cell_type": "markdown",
   "metadata": {},
   "source": [
    "## 15.1 钢条切割\n",
    "**问题描述：**\n",
    "给定一段长度为 n 英寸的钢条和一个价格表 p<sub>i(i = 1,2,...,n),求切割钢条方案，使得销售收益 r<sub>n 最大。\n",
    "    \n",
    "钢条切割问题满足最优子结构性质：问题的最优解又相关子问题的最优解组合而成，而这些子问题可以独立求解。\n",
    "\n"
   ]
  },
  {
   "cell_type": "markdown",
   "metadata": {},
   "source": [
    "*自顶向下递归求解（非动态规划）：*"
   ]
  },
  {
   "cell_type": "code",
   "execution_count": 7,
   "metadata": {},
   "outputs": [],
   "source": [
    "import math\n",
    "def cut(p,n):\n",
    "    if n == 0:\n",
    "        return 0\n",
    "    q = -math.inf\n",
    "    for i in range(1,n+1):\n",
    "        q = max(q,p[i]+cut(p,n-i))\n",
    "    return q   "
   ]
  },
  {
   "cell_type": "markdown",
   "metadata": {},
   "source": [
    "以上方法的时间复杂度为 2<sup>n  "
   ]
  },
  {
   "cell_type": "markdown",
   "metadata": {},
   "source": [
    "\n",
    "\n",
    "动态规划有两种等价的实现方法  \n",
    "第一种方法称为**带备忘的自顶向下法**。此方法仍按自然的递归形式编写过程，但过程会保存每个子问题的解（数组/散列表）。当需要一个子问题的解时，过程首先检查是否已经保存过此解。如果是，则直接返回保存的值，从而节省了计算时间；否则，按通常方式计算这个子问题。  \n",
    "第二种方法称为**自底向上法**。这种方法一把需要恰当定义子问题“规模”的概念，使得任何子问题的求解都只依赖于“更小的”子问题的求解。因而我们可以将子问题按规模排序，按由小至大的顺序进行求解。当求解某个子问题时，它所依赖的那些更小的子问题都已求解完毕，结果已经保存。每个子问题只需求解一次，当我们求解它时，它的所有前提子问题都已求解完成。  \n"
   ]
  },
  {
   "cell_type": "markdown",
   "metadata": {},
   "source": [
    "带备忘的自顶向下解法："
   ]
  },
  {
   "cell_type": "code",
   "execution_count": 1,
   "metadata": {},
   "outputs": [],
   "source": [
    "import math\n",
    "def memocut(p,n):\n",
    "    r = [-math.inf]*(n+1)\n",
    "    return memocutaux(p,n,r)\n",
    "    \n",
    "\n",
    "def memocutaux(p,n,r):\n",
    "    if r[n]>=0:\n",
    "        return r[n]\n",
    "    if n == 0:\n",
    "        q = 0\n",
    "    else:\n",
    "        q = -math.inf\n",
    "        for i in range(1,n+1):\n",
    "            q = max(q,p[i]+memocutaux(p,n-i,r))\n",
    "    r[n] = q\n",
    "    return q\n"
   ]
  },
  {
   "cell_type": "markdown",
   "metadata": {},
   "source": [
    " "
   ]
  },
  {
   "cell_type": "markdown",
   "metadata": {},
   "source": [
    "自底向上解法："
   ]
  },
  {
   "cell_type": "code",
   "execution_count": null,
   "metadata": {},
   "outputs": [],
   "source": [
    "import math\n",
    "def bottomToUp(p,n):\n",
    "    r = [-math.inf]*(n+1)\n",
    "    r[0] = 0\n",
    "    for j in range(1,n+1):\n",
    "        q = -math.inf\n",
    "        for i in range(1,j+1):\n",
    "            q = max(q,p[i]+r[j-i])\n",
    "        r[j] = q\n",
    "    return r[n]\n",
    "\n"
   ]
  },
  {
   "cell_type": "markdown",
   "metadata": {},
   "source": [
    "计算最大收益值同时保存最优解对应的第一段钢条切割长度："
   ]
  },
  {
   "cell_type": "code",
   "execution_count": 1,
   "metadata": {},
   "outputs": [],
   "source": [
    "import math\n",
    "def eXBottomUp(p,n):\n",
    "    r = [-math.inf]*(n+1)\n",
    "    s = [0]*(n+1)\n",
    "    for j in range(1,n+1):\n",
    "        q = -math.inf\n",
    "        for i in range(1,j+1):\n",
    "            if q < p[i]+r[j-i]:\n",
    "                q = p[i]+r[j-i]\n",
    "                s[j] = i\n",
    "        r[j] = q\n",
    "    return [r[n],s[n]]"
   ]
  },
  {
   "cell_type": "markdown",
   "metadata": {},
   "source": [
    "  \n",
    "***练习***   \n",
    "  \n",
    "15.1-3 对钢条切割问题进行修改，除了切割下的钢条段具有不同价格p<sub>i外，每次切割还要付出固定成本c  \n",
    "    "
   ]
  },
  {
   "cell_type": "code",
   "execution_count": 4,
   "metadata": {},
   "outputs": [],
   "source": [
    "import math\n",
    "def modiCut(p,n,c):\n",
    "    r = [-math.inf]*(n+1)\n",
    "    r[0] = 0\n",
    "    for j in range(1,n+1):\n",
    "        q = -math.inf\n",
    "        for i in range(1,j+1):\n",
    "            if i == j:\n",
    "                q = max(q,p[i])\n",
    "            else:\n",
    "                q = max(q,p[i]+r[j-i]-c)\n",
    "        r[j] = q\n",
    "    return r[n]\n",
    "\n"
   ]
  },
  {
   "cell_type": "markdown",
   "metadata": {},
   "source": [
    "## 15.4 最长公共子序列  \n",
    "\n",
    "**最长公共子序列问题**：  \n",
    "给定两个序列 X=(x<sub>1</sub> ,x<sub>2</sub> ,...,x<sub>m</sub> )和 Y=(y<sub>1</sub> ,y<sub>2</sub> ,...,y<sub>n</sub> )，求 X 和 Y 长度最长的公共子序列  \n",
    "    \n",
    "令 X=(x<sub>1</sub> ,x<sub>2</sub> ,...,x<sub>m</sub> )和 Y=(y<sub>1</sub> ,y<sub>2</sub> ,...,y<sub>n</sub> )为两个序列，Z=(z<sub>1 </sub>,z<sub>2</sub> ,...z<sub>k</sub> )为 X 和 Y 的任意 LCS。  \n",
    "    \n",
    "1. 如果 x<sub>m</sub> = y<sub>n</sub>,则z<sub>k</sub>=x<sub>m</sub>=y<sub>n</sub> 且 Z<sub>k-1</sub> 是 X<sub>m-1</sub> 和 Y<sub>n-1</sub> 的一个 LCS\n",
    "2. 如果 x<sub>m</sub>$\\neq$y<sub>n</sub>, 那么z<sub>k</sub>$\\neq$x<sub>m</sub> 意味着 Z 是 X<sub>m-1</sub> 和 Y 的一个 LCS\n",
    "3. 如果 x<sub>m</sub>$\\neq$y<sub>n</sub>, 那么z<sub>k</sub>$\\neq$y<sub>n</sub> 意味着 Z 是 X 和 Y<sub>n-1</sub> 的一个 LCS"
   ]
  },
  {
   "cell_type": "code",
   "execution_count": 14,
   "metadata": {},
   "outputs": [
    {
     "name": "stdout",
     "output_type": "stream",
     "text": [
      "B\n",
      "D\n",
      "C\n"
     ]
    }
   ],
   "source": [
    "def lcsLength(X:str,Y:str):\n",
    "    m = len(X)\n",
    "    n = len(Y)\n",
    "    X=\" \"+X\n",
    "    Y=\" \"+Y\n",
    "    b = [[0] * (n+1) for num in range(m+1)]\n",
    "    c = [[0] * (n+1) for num in range(m+1)]\n",
    "    for i in range(1,m+1):\n",
    "        c[i][0] = 0\n",
    "    for j in range(0,n+1):\n",
    "        c[0][j] = 0\n",
    "    for i in range(1,m+1):\n",
    "        for j in range(1,n+1):\n",
    "            if X[i] == Y[j]:\n",
    "                c[i][j] = c[i-1][j-1]+1\n",
    "                b[i][j] = \"left-up\"\n",
    "            elif c[i-1][j] >= c[i][j-1]:\n",
    "                c[i][j] = c[i-1][j]\n",
    "                b[i][j]=\"up\"\n",
    "            else:\n",
    "                c[i][j] = c[i][j-1]\n",
    "                b[i][j]=\"left\"\n",
    "    return (b,c)\n",
    "\n",
    "def printLCS(result:tuple,X,i,j):\n",
    "    b = result[0]\n",
    "    if i == 0 or j == 0:\n",
    "        return \n",
    "    if b[i][j] == \"left-up\":\n",
    "        printLCS(result,X,i-1,j-1)\n",
    "        print(X[i-1])\n",
    "    elif b[i][j] == \"up\":\n",
    "        printLCS(result,X,i-1,j)\n",
    "    else:\n",
    "        printLCS(result,X,i,j-1)\n",
    "\n",
    "test1 = \"AABBDC\"\n",
    "test2 = \"DDBDCA\"\n",
    "result = lcsLength(test1,test2)\n",
    "printLCS(result,test1,6,6)"
   ]
  },
  {
   "cell_type": "code",
   "execution_count": null,
   "metadata": {},
   "outputs": [],
   "source": []
  }
 ],
 "metadata": {
  "kernelspec": {
   "display_name": "Python 3",
   "language": "python",
   "name": "python3"
  },
  "language_info": {
   "codemirror_mode": {
    "name": "ipython",
    "version": 3
   },
   "file_extension": ".py",
   "mimetype": "text/x-python",
   "name": "python",
   "nbconvert_exporter": "python",
   "pygments_lexer": "ipython3",
   "version": "3.7.2"
  }
 },
 "nbformat": 4,
 "nbformat_minor": 2
}
