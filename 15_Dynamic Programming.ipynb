{
 "cells": [
  {
   "cell_type": "markdown",
   "metadata": {},
   "source": [
    "DP算法通常步骤：\n",
    "1. 刻画一个最优解的结构特征\n",
    "2. 递归定义最优解的值\n",
    "3. 计算最优解的值，通常采用自底向上的方法\n",
    "4. 利用计算出的信息构造一个最优解"
   ]
  },
  {
   "cell_type": "markdown",
   "metadata": {},
   "source": [
    "## 15.1 钢条切割\n",
    "**问题描述：**\n",
    "给定一段长度为 n 英寸的钢条和一个价格表 p<sub>i(i = 1,2,...,n),求切割钢条方案，使得销售收益 r<sub>n 最大。\n",
    "    \n",
    "钢条切割问题满足最优子结构性质：问题的最优解又相关子问题的最优解组合而成，而这些子问题可以独立求解。\n",
    "\n"
   ]
  },
  {
   "cell_type": "markdown",
   "metadata": {},
   "source": [
    "*自顶向下递归求解（非动态规划）：*"
   ]
  },
  {
   "cell_type": "code",
   "execution_count": 7,
   "metadata": {},
   "outputs": [],
   "source": [
    "import math\n",
    "def cut(p,n):\n",
    "    if n == 0:\n",
    "        return 0\n",
    "    q = -math.inf\n",
    "    for i in range(1,n+1):\n",
    "        q = max(q,p[i]+cut(p,n-i))\n",
    "    return q   "
   ]
  },
  {
   "cell_type": "markdown",
   "metadata": {},
   "source": [
    "以上方法的时间复杂度为 2<sup>n  "
   ]
  },
  {
   "cell_type": "markdown",
   "metadata": {},
   "source": [
    "\n",
    "\n",
    "动态规划有两种等价的实现方法  \n",
    "第一种方法称为**带备忘的自顶向下法**。此方法仍按自然的递归形式编写过程，但过程会保存每个子问题的解（数组/散列表）。当需要一个子问题的解时，过程首先检查是否已经保存过此解。如果是，则直接返回保存的值，从而节省了计算时间；否则，按通常方式计算这个子问题。  \n",
    "第二种方法称为**自底向上法**。这种方法一把需要恰当定义子问题“规模”的概念，使得任何子问题的求解都只依赖于“更小的”子问题的求解。因而我们可以将子问题按规模排序，按由小至大的顺序进行求解。当求解某个子问题时，它所依赖的那些更小的子问题都已求解完毕，结果已经保存。每个子问题只需求解一次，当我们求解它时，它的所有前提子问题都已求解完成。  \n"
   ]
  },
  {
   "cell_type": "markdown",
   "metadata": {},
   "source": [
    "带备忘的自顶向下解法："
   ]
  },
  {
   "cell_type": "code",
   "execution_count": 2,
   "metadata": {},
   "outputs": [
    {
     "data": {
      "text/plain": [
       "10"
      ]
     },
     "execution_count": 2,
     "metadata": {},
     "output_type": "execute_result"
    }
   ],
   "source": [
    "import math\n",
    "def memocut(p,n):\n",
    "    r = [-math.inf]*(n+1)\n",
    "    return memocutaux(p,n,r)\n",
    "    \n",
    "\n",
    "def memocutaux(p,n,r):\n",
    "    if r[n]>=0:\n",
    "        return r[n]\n",
    "    if n == 0:\n",
    "        q = 0\n",
    "    else:\n",
    "        q = -math.inf\n",
    "        for i in range(1,n+1):\n",
    "            q = max(q,p[i]+memocutaux(p,n-i,r))\n",
    "    r[n] = q\n",
    "    return q"
   ]
  },
  {
   "cell_type": "markdown",
   "metadata": {},
   "source": [
    " "
   ]
  }
 ],
 "metadata": {
  "kernelspec": {
   "display_name": "Python 3",
   "language": "python",
   "name": "python3"
  },
  "language_info": {
   "codemirror_mode": {
    "name": "ipython",
    "version": 3
   },
   "file_extension": ".py",
   "mimetype": "text/x-python",
   "name": "python",
   "nbconvert_exporter": "python",
   "pygments_lexer": "ipython3",
   "version": "3.7.2"
  }
 },
 "nbformat": 4,
 "nbformat_minor": 2
}
