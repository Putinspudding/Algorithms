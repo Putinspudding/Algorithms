{
 "cells": [
  {
   "cell_type": "markdown",
   "metadata": {},
   "source": [
    "DP算法通常步骤：\n",
    "1. 刻画一个最优解的结构特征\n",
    "2. 递归定义最优解的值\n",
    "3. 计算最优解的值，通常采用自底向上的方法\n",
    "4. 利用计算出的信息构造一个最优解"
   ]
  },
  {
   "cell_type": "markdown",
   "metadata": {},
   "source": [
    "## 15.1 钢条切割\n",
    "**问题描述：**\n",
    "给定一段长度为 n 英寸的钢条和一个价格表 p<sub>i(i = 1,2,...,n),求切割钢条方案，使得销售收益 r<sub>n 最大。\n",
    "    \n",
    "钢条切割问题满足最优子结构性质：问题的最优解又相关子问题的最优解组合而成，而这些子问题可以独立求解。\n",
    "\n"
   ]
  },
  {
   "cell_type": "markdown",
   "metadata": {},
   "source": [
    "*自顶向下递归求解（非动态规划）：*"
   ]
  },
  {
   "cell_type": "code",
   "execution_count": 7,
   "metadata": {},
   "outputs": [],
   "source": [
    "import math\n",
    "def cut(p,n):\n",
    "    if n == 0:\n",
    "        return 0\n",
    "    q = -math.inf\n",
    "    for i in range(1,n+1):\n",
    "        q = max(q,p[i]+cut(p,n-i))\n",
    "    return q   "
   ]
  },
  {
   "cell_type": "markdown",
   "metadata": {},
   "source": [
    "以上方法的时间复杂度为 2<sup>n  "
   ]
  },
  {
   "cell_type": "markdown",
   "metadata": {},
   "source": [
    "\n",
    "\n",
    "动态规划有两种等价的实现方法  \n",
    "第一种方法称为**带备忘的自顶向下法**。此方法仍按自然的递归形式编写过程，但过程会保存每个子问题的解（数组/散列表）。当需要一个子问题的解时，过程首先检查是否已经保存过此解。如果是，则直接返回保存的值，从而节省了计算时间；否则，按通常方式计算这个子问题。  \n",
    "第二种方法称为**自底向上法**。这种方法一把需要恰当定义子问题“规模”的概念，使得任何子问题的求解都只依赖于“更小的”子问题的求解。因而我们可以将子问题按规模排序，按由小至大的顺序进行求解。当求解某个子问题时，它所依赖的那些更小的子问题都已求解完毕，结果已经保存。每个子问题只需求解一次，当我们求解它时，它的所有前提子问题都已求解完成。  \n"
   ]
  },
  {
   "cell_type": "markdown",
   "metadata": {},
   "source": [
    "带备忘的自顶向下解法："
   ]
  },
  {
   "cell_type": "code",
   "execution_count": 1,
   "metadata": {},
   "outputs": [],
   "source": [
    "import math\n",
    "def memocut(p,n):\n",
    "    r = [-math.inf]*(n+1)\n",
    "    return memocutaux(p,n,r)\n",
    "    \n",
    "\n",
    "def memocutaux(p,n,r):\n",
    "    if r[n]>=0:\n",
    "        return r[n]\n",
    "    if n == 0:\n",
    "        q = 0\n",
    "    else:\n",
    "        q = -math.inf\n",
    "        for i in range(1,n+1):\n",
    "            q = max(q,p[i]+memocutaux(p,n-i,r))\n",
    "    r[n] = q\n",
    "    return q\n"
   ]
  },
  {
   "cell_type": "markdown",
   "metadata": {},
   "source": [
    " "
   ]
  },
  {
   "cell_type": "markdown",
   "metadata": {},
   "source": [
    "自底向上解法："
   ]
  },
  {
   "cell_type": "code",
   "execution_count": null,
   "metadata": {},
   "outputs": [],
   "source": [
    "import math\n",
    "def bottomToUp(p,n):\n",
    "    r = [-math.inf]*(n+1)\n",
    "    r[0] = 0\n",
    "    for j in range(1,n+1):\n",
    "        q = -math.inf\n",
    "        for i in range(1,j+1):\n",
    "            q = max(q,p[i]+r[j-i])\n",
    "        r[j] = q\n",
    "    return r[n]\n",
    "\n"
   ]
  },
  {
   "cell_type": "markdown",
   "metadata": {},
   "source": [
    "计算最大收益值同时保存最优解对应的第一段钢条切割长度："
   ]
  },
  {
   "cell_type": "code",
   "execution_count": 1,
   "metadata": {},
   "outputs": [],
   "source": [
    "import math\n",
    "def eXBottomUp(p,n):\n",
    "    r = [-math.inf]*(n+1)\n",
    "    s = [0]*(n+1)\n",
    "    for j in range(1,n+1):\n",
    "        q = -math.inf\n",
    "        for i in range(1,j+1):\n",
    "            if q < p[i]+r[j-i]:\n",
    "                q = p[i]+r[j-i]\n",
    "                s[j] = i\n",
    "        r[j] = q\n",
    "    return [r[n],s[n]]"
   ]
  },
  {
   "cell_type": "markdown",
   "metadata": {},
   "source": [
    "  \n",
    "***练习***   \n",
    "  \n",
    "15.1-3 对钢条切割问题进行修改，除了切割下的钢条段具有不同价格p<sub>i外，每次切割还要付出固定成本c  \n",
    "    "
   ]
  },
  {
   "cell_type": "code",
   "execution_count": 4,
   "metadata": {},
   "outputs": [],
   "source": [
    "import math\n",
    "def modiCut(p,n,c):\n",
    "    r = [-math.inf]*(n+1)\n",
    "    r[0] = 0\n",
    "    for j in range(1,n+1):\n",
    "        q = -math.inf\n",
    "        for i in range(1,j+1):\n",
    "            if i == j:\n",
    "                q = max(q,p[i])\n",
    "            else:\n",
    "                q = max(q,p[i]+r[j-i]-c)\n",
    "        r[j] = q\n",
    "    return r[n]\n",
    "\n"
   ]
  },
  {
   "cell_type": "markdown",
   "metadata": {},
   "source": [
    "## 15.4 最长公共子序列  \n",
    "\n",
    "**最长公共子序列问题**：  \n",
    "给定两个序列 X=(x<sub>1</sub> ,x<sub>2</sub> ,...,x<sub>m</sub> )和 Y=(y<sub>1</sub> ,y<sub>2</sub> ,...,y<sub>n</sub> )，求 X 和 Y 长度最长的公共子序列  \n",
    "    \n",
    "令 X=(x<sub>1</sub> ,x<sub>2</sub> ,...,x<sub>m</sub> )和 Y=(y<sub>1</sub> ,y<sub>2</sub> ,...,y<sub>n</sub> )为两个序列，Z=(z<sub>1 </sub>,z<sub>2</sub> ,...z<sub>k</sub> )为 X 和 Y 的任意 LCS。  \n",
    "    \n",
    "1. 如果 x<sub>m</sub> = y<sub>n</sub>,则z<sub>k</sub>=x<sub>m</sub>=y<sub>n</sub> 且 Z<sub>k-1</sub> 是 X<sub>m-1</sub> 和 Y<sub>n-1</sub> 的一个 LCS\n",
    "2. 如果 x<sub>m</sub>$\\neq$y<sub>n</sub>, 那么z<sub>k</sub>$\\neq$x<sub>m</sub> 意味着 Z 是 X<sub>m-1</sub> 和 Y 的一个 LCS\n",
    "3. 如果 x<sub>m</sub>$\\neq$y<sub>n</sub>, 那么z<sub>k</sub>$\\neq$y<sub>n</sub> 意味着 Z 是 X 和 Y<sub>n-1</sub> 的一个 LCS"
   ]
  },
  {
   "cell_type": "markdown",
   "metadata": {},
   "source": [
    "$$ c[i,j]=\n",
    "\\begin{cases}\n",
    "0& \\ i = 0 \\ or \\ j = 0\\\\\n",
    "c[i-1,j-1] + 1& \\ i,j>0 \\ and \\ x_i = y_j\\\\\n",
    "max(c[i,j-1],c[i-1,j])& \\ i,j>0 \\ and \\ x_i \\ne x_j\n",
    "\\end{cases}$$"
   ]
  },
  {
   "cell_type": "code",
   "execution_count": 14,
   "metadata": {},
   "outputs": [
    {
     "name": "stdout",
     "output_type": "stream",
     "text": [
      "B\n",
      "D\n",
      "C\n"
     ]
    }
   ],
   "source": [
    "def lcsLength(X:str,Y:str):\n",
    "    m = len(X)\n",
    "    n = len(Y)\n",
    "    X=\" \"+X\n",
    "    Y=\" \"+Y\n",
    "    b = [[0] * (n+1) for num in range(m+1)]\n",
    "    c = [[0] * (n+1) for num in range(m+1)]\n",
    "    for i in range(1,m+1):\n",
    "        c[i][0] = 0\n",
    "    for j in range(0,n+1):\n",
    "        c[0][j] = 0\n",
    "    for i in range(1,m+1):\n",
    "        for j in range(1,n+1):\n",
    "            if X[i] == Y[j]:\n",
    "                c[i][j] = c[i-1][j-1]+1\n",
    "                b[i][j] = \"left-up\"\n",
    "            elif c[i-1][j] >= c[i][j-1]:\n",
    "                c[i][j] = c[i-1][j]\n",
    "                b[i][j]=\"up\"\n",
    "            else:\n",
    "                c[i][j] = c[i][j-1]\n",
    "                b[i][j]=\"left\"\n",
    "    return (b,c)\n",
    "\n",
    "def printLCS(result:tuple,X,i,j):\n",
    "    b = result[0]\n",
    "    if i == 0 or j == 0:\n",
    "        return \n",
    "    if b[i][j] == \"left-up\":\n",
    "        printLCS(result,X,i-1,j-1)\n",
    "        print(X[i-1])\n",
    "    elif b[i][j] == \"up\":\n",
    "        printLCS(result,X,i-1,j)\n",
    "    else:\n",
    "        printLCS(result,X,i,j-1)\n",
    "\n",
    "test1 = \"AABBDC\"\n",
    "test2 = \"DDBDCA\"\n",
    "result = lcsLength(test1,test2)\n",
    "printLCS(result,test1,6,6)"
   ]
  },
  {
   "cell_type": "markdown",
   "metadata": {},
   "source": [
    "***练习***  \n",
    "\n",
    "15.4-5 设计一个O(n<sup>2</sup>)时间的算法，求一个 n 个数的序列的最长单调递增子序列"
   ]
  },
  {
   "cell_type": "markdown",
   "metadata": {},
   "source": [
    "${思路： \\\\ 假设 \\ M_i \\ 是 \\ N_j \\ 的最长单调递增子序列长度， \\ m_k \\ 是序列 \\ M_i \\ 一个元素}$ \n",
    "$$\n",
    "M_i= \n",
    "\\begin{cases}\n",
    "0& \\ j = 0\\\\\n",
    "max(M_k)+1 & \\ \\exists k, \\ N_j>m_k\\\\\n",
    "1 & \\ \\forall k, \\ N_j \\le m_k\n",
    "\\end{cases}\n",
    "$$"
   ]
  },
  {
   "cell_type": "code",
   "execution_count": 9,
   "metadata": {},
   "outputs": [
    {
     "data": {
      "text/plain": [
       "[1, 2, 3]"
      ]
     },
     "execution_count": 9,
     "metadata": {},
     "output_type": "execute_result"
    }
   ],
   "source": [
    "def monotonic(s):\n",
    "    length = len(s)\n",
    "    alpha = [0 for col in range(length)]\n",
    "    ms = 0\n",
    "    mp = 0\n",
    "    seq = []\n",
    "    for i in range(0,length):\n",
    "        if i == 0:\n",
    "            alpha[i] = [-1,1]\n",
    "        else:\n",
    "            maxseq = 0\n",
    "            temppos = 0\n",
    "            for k in range(0,i):\n",
    "                if s[i] > s[k]:\n",
    "                    if alpha[k][1] > maxseq:\n",
    "                        maxseq = alpha[k][1]\n",
    "                        temppos = k\n",
    "                    maxseq = max(maxseq,alpha[k][1])\n",
    "            if maxseq != 0:\n",
    "                alpha[i] = [temppos,maxseq+1]\n",
    "                if ms < maxseq+1:\n",
    "                    ms = maxseq+1\n",
    "                    mp = i\n",
    "            else:\n",
    "                alpha[i] = [0,1]\n",
    "    point = mp\n",
    "    while point!= -1:\n",
    "        seq = [s[point]] + seq\n",
    "        point = alpha[point][0]\n",
    "    return seq\n",
    "\n",
    "\n",
    "s = [1,3,2,3]\n",
    "monotonic(s)"
   ]
  },
  {
   "cell_type": "markdown",
   "metadata": {},
   "source": [
    "## 思考题"
   ]
  },
  {
   "cell_type": "markdown",
   "metadata": {},
   "source": [
    "15-2. 求给定字符串的最长回文子序列\n",
    "\n",
    "${思路：\\\\\n",
    " p[i][j] \\ 为字符串 \\ s[i:j+1] \\ 中回文子序列长度，则有}$\n",
    "$$\n",
    "p[i][j]= \n",
    "\\begin{cases}\n",
    "0 & \\ i > j\\\\\n",
    "1 & \\ i = j\\\\\n",
    "p[i+1][j-1]+2 & \\ s[i] = s[j] \\ \\& \\ i<j\\\\\n",
    "max(p[i+1][j],p[i][j-1]) & \\ s[i] \\ne s[j]\n",
    "\\end{cases}\n",
    "$$\n",
    " "
   ]
  },
  {
   "cell_type": "code",
   "execution_count": 47,
   "metadata": {},
   "outputs": [
    {
     "data": {
      "text/plain": [
       "5"
      ]
     },
     "execution_count": 47,
     "metadata": {},
     "output_type": "execute_result"
    }
   ],
   "source": [
    "def LPS(s):\n",
    "    if not s:\n",
    "        return 0\n",
    "    length = len(s)\n",
    "    p = [[0 for col in range(length)] for row in range(length)]\n",
    "    d = 0\n",
    "    answer = 0\n",
    "    while d < length:\n",
    "        p[d][d] = 1\n",
    "        d += 1\n",
    "    for j in range(1,length):\n",
    "        for i in range(j-1,-1,-1):\n",
    "            if s[i] == s[j]:\n",
    "                p[i][j] = p[i+1][j-1]+2\n",
    "            else:\n",
    "                p[i][j] = max(p[i+1][j],p[i][j-1])\n",
    "            answer = max(answer,p[i][j])\n",
    "    return answer if answer > 1 else 1\n",
    "\n",
    "s = \"character\"\n",
    "LPS(s)"
   ]
  },
  {
   "cell_type": "markdown",
   "metadata": {},
   "source": [
    "变种：求给定字符串的最长回文子串"
   ]
  },
  {
   "cell_type": "code",
   "execution_count": 48,
   "metadata": {},
   "outputs": [
    {
     "data": {
      "text/plain": [
       "'ara'"
      ]
     },
     "execution_count": 48,
     "metadata": {},
     "output_type": "execute_result"
    }
   ],
   "source": [
    "def LPCS(s):\n",
    "    if not s:\n",
    "        return 0\n",
    "    length = len(s)\n",
    "    p = [[0 for col in range(length)] for row in range(length)]\n",
    "    d = 0\n",
    "    answer = 1\n",
    "    row = 0\n",
    "    col = 0\n",
    "    while d < length:\n",
    "        p[d][d] = 1\n",
    "        d += 1\n",
    "    for j in range(1,length):\n",
    "        for i in range(j-1,-1,-1):\n",
    "            if s[i] == s[j]:\n",
    "                p[i][j] = p[i+1][j-1]+2 if p[i+1][j-1] > 0 else 0\n",
    "            else:\n",
    "                p[i][j] = 0\n",
    "            if p[i][j] > answer:\n",
    "                answer = p[i][j]\n",
    "                row = i\n",
    "                col = j\n",
    "    return s[row:col+1]\n",
    "\n",
    "s = \"character\"\n",
    "LPCS(s)"
   ]
  },
  {
   "cell_type": "markdown",
   "metadata": {},
   "source": [
    "15-4. 用打印机打印一段文本。输入文本为 $ \\ n \\ $个单词的序列，单词长度分别为 $ \\ l_1,l_2,l_3,...,l_n \\ $ 个字符。每行最多$ \\ M \\ $ 个字符。如果某行包含第 $ \\ i \\  $ 到第 $ \\ j \\ (i \\le j) $ 个单词，且单词间隔为一个空格符，则行尾的额外空格符数量为 $ M-j+i-\\sum_{k=j}^il_k $ ，此值必须为非负，否则一行无法容纳这些单词。设计算法使得所有行的（除最后一行外）额外空格数的立方之和最小。  \n",
    "  "
   ]
  },
  {
   "cell_type": "code",
   "execution_count": 42,
   "metadata": {},
   "outputs": [
    {
     "name": "stdout",
     "output_type": "stream",
     "text": [
      "[125, 27, 0, 8, 224, 9, 134, 142, 169, 142, 170]\n",
      "[-1, -1, -1, 2, 3, 3, 5, 6, 7, 7, 8]\n"
     ]
    },
    {
     "data": {
      "text/plain": [
       "[[125, 27, 0, -1, -1, -1, -1, -1, -1, -1, -1],\n",
       " [-1, 343, 64, -1, -1, -1, -1, -1, -1, -1, -1],\n",
       " [-1, -1, 216, -1, -1, -1, -1, -1, -1, -1, -1],\n",
       " [-1, -1, -1, 8, -1, -1, -1, -1, -1, -1, -1],\n",
       " [-1, -1, -1, -1, 216, 1, -1, -1, -1, -1, -1],\n",
       " [-1, -1, -1, -1, -1, 64, 0, -1, -1, -1, -1],\n",
       " [-1, -1, -1, -1, -1, -1, 125, -1, -1, -1, -1],\n",
       " [-1, -1, -1, -1, -1, -1, -1, 8, -1, -1, -1],\n",
       " [-1, -1, -1, -1, -1, -1, -1, -1, 27, 0, -1],\n",
       " [-1, -1, -1, -1, -1, -1, -1, -1, -1, 216, 1],\n",
       " [-1, -1, -1, -1, -1, -1, -1, -1, -1, -1, 64]]"
      ]
     },
     "execution_count": 42,
     "metadata": {},
     "output_type": "execute_result"
    }
   ],
   "source": [
    "import math\n",
    "def neat(a,M):\n",
    "    length = len(a)\n",
    "    W = [[-1 for col in range(length)] for row in range(length)]\n",
    "    for i in range(length):\n",
    "        for j in range(i,length):\n",
    "            space = M - j + i-sum(a[i:j+1])\n",
    "            W[i][j] = space**3 if space >= 0 else -1\n",
    "    B = [math.inf]*length\n",
    "    C = [-1]*length\n",
    "    B[0] = W[0][0]\n",
    "    t = 1\n",
    "    while t<length:\n",
    "        for k in range(0,t+1):\n",
    "            if k == 0 and W[k][t] != -1:\n",
    "                B[t] = min(W[k][t],B[t])\n",
    "                if B[t] == W[k][t]:\n",
    "                    C[t] = -1\n",
    "            if W[k][t] != -1:\n",
    "                B[t] = min(B[k-1]+W[k][t],B[t])\n",
    "                if B[t] == B[k-1]+W[k][t]:\n",
    "                    C[t] = k-1\n",
    "        t += 1\n",
    "    print(B)\n",
    "    print(C)\n",
    "    return W\n",
    "\n",
    "a = [3,1,2,6,2,4,3,6,5,2,4]\n",
    "M = 8\n",
    "neat(a,M)\n",
    "        "
   ]
  },
  {
   "cell_type": "markdown",
   "metadata": {},
   "source": [
    "15-5. 编辑距离  \n",
    "[力扣编辑距离](https://leetcode-cn.com/problems/edit-distance/)的复杂化,在此只贴上力扣题目的代码"
   ]
  },
  {
   "cell_type": "code",
   "execution_count": 3,
   "metadata": {},
   "outputs": [
    {
     "data": {
      "text/plain": [
       "10"
      ]
     },
     "execution_count": 3,
     "metadata": {},
     "output_type": "execute_result"
    }
   ],
   "source": [
    "import math\n",
    "def minDistance(word1: str, word2: str):\n",
    "    word1 = \" \" + word1\n",
    "    word2 = \" \" + word2\n",
    "    m = len(word1)\n",
    "    n = len(word2)\n",
    "    dp = [[0 for col in range(m)]for row in range(n)]\n",
    "    for i in range(n):\n",
    "        dp[i][0] = i\n",
    "    for j in range(m):\n",
    "        dp[0][j] = j\n",
    "    dp[0][0] = 0\n",
    "    for i in range(1,n):\n",
    "        for j in range(1,m):\n",
    "            mini = 0\n",
    "            if word1[j] == word2[i]:\n",
    "                mini = min(dp[i-1][j],dp[i][j-1],dp[i-1][j-1]-1)\n",
    "            else:\n",
    "                mini = min(dp[i-1][j],dp[i][j-1],dp[i-1][j-1])\n",
    "            dp[i][j] = mini+1\n",
    "    return dp[-1][-1]\n",
    "\n",
    "a = \"zoologicoarchaeologist\"\n",
    "b = \"zoogeologist\"\n",
    "minDistance(a,b)"
   ]
  },
  {
   "cell_type": "markdown",
   "metadata": {},
   "source": [
    "15-6.根据题意归纳，即通过给定二叉树，选择节点，使得选取节点之和最大，且各节点之间不存在父子关系"
   ]
  },
  {
   "cell_type": "code",
   "execution_count": null,
   "metadata": {},
   "outputs": [],
   "source": [
    "class lcrs:\n",
    "    def __init__(self,x=None):\n",
    "        self.value = x\n",
    "        self.leftchild = None\n",
    "        self.rightsibling = None"
   ]
  }
 ],
 "metadata": {
  "kernelspec": {
   "display_name": "Python 3",
   "language": "python",
   "name": "python3"
  },
  "language_info": {
   "codemirror_mode": {
    "name": "ipython",
    "version": 3
   },
   "file_extension": ".py",
   "mimetype": "text/x-python",
   "name": "python",
   "nbconvert_exporter": "python",
   "pygments_lexer": "ipython3",
   "version": "3.7.2"
  }
 },
 "nbformat": 4,
 "nbformat_minor": 2
}
