{
 "cells": [
  {
   "cell_type": "markdown",
   "metadata": {},
   "source": [
    "## 12.1 二叉搜索树\n",
    "二叉搜索树中，对任何结点 x ,其左子树关键字最大不超过 x.key,其右子树关键字最小不低于 x.key"
   ]
  },
  {
   "cell_type": "code",
   "execution_count": 3,
   "metadata": {},
   "outputs": [],
   "source": [
    "class TreeNode:\n",
    "    def __init__(self,value = None):\n",
    "        self.key = value\n",
    "        self.left = None\n",
    "        self.right = None\n",
    "\n",
    "\n",
    "class TreeNodeWithParents:\n",
    "    def __init__(self,value = None):\n",
    "        self.key = value\n",
    "        self.parent = None\n",
    "        self.left = None\n",
    "        self.right = None"
   ]
  },
  {
   "cell_type": "markdown",
   "metadata": {},
   "source": [
    "中序遍历："
   ]
  },
  {
   "cell_type": "code",
   "execution_count": 26,
   "metadata": {},
   "outputs": [],
   "source": [
    "def inorder(x):\n",
    "    if x != None:\n",
    "        inorder(x.left)\n",
    "        print(x.key)\n",
    "        inorder(x.right)"
   ]
  },
  {
   "cell_type": "markdown",
   "metadata": {},
   "source": [
    "先序遍历："
   ]
  },
  {
   "cell_type": "code",
   "execution_count": 27,
   "metadata": {},
   "outputs": [],
   "source": [
    "def preorder(x):\n",
    "    if x != None:\n",
    "        print (x.key)\n",
    "        preorder(x.left)\n",
    "        preorder(x.right)"
   ]
  },
  {
   "cell_type": "markdown",
   "metadata": {},
   "source": [
    "后序遍历："
   ]
  },
  {
   "cell_type": "code",
   "execution_count": 28,
   "metadata": {},
   "outputs": [],
   "source": [
    "def postorder(x):\n",
    "    if x != None:\n",
    "        postorder(x.left)\n",
    "        postorder(x.right)\n",
    "        print(x.key)"
   ]
  },
  {
   "cell_type": "markdown",
   "metadata": {},
   "source": [
    "## 12.2查询二叉搜索树\n",
    "递归："
   ]
  },
  {
   "cell_type": "code",
   "execution_count": 29,
   "metadata": {},
   "outputs": [],
   "source": [
    "def search(x,k):\n",
    "    if x == None or k == x.key:\n",
    "        return x\n",
    "    if k < x.key:\n",
    "        return search(x.left,k)\n",
    "    else:\n",
    "        return search(x.right,k)"
   ]
  },
  {
   "cell_type": "markdown",
   "metadata": {},
   "source": [
    "循环："
   ]
  },
  {
   "cell_type": "code",
   "execution_count": 30,
   "metadata": {},
   "outputs": [],
   "source": [
    "def arsearch(x,k):\n",
    "    while x is not None and k != x.key:\n",
    "        if k<x.key:\n",
    "            x = x.left\n",
    "        else:\n",
    "            x = x.right\n",
    "    return x"
   ]
  },
  {
   "cell_type": "markdown",
   "metadata": {},
   "source": [
    "最大关键字元素与最小关键字元素查询："
   ]
  },
  {
   "cell_type": "code",
   "execution_count": 31,
   "metadata": {},
   "outputs": [],
   "source": [
    "def treeMax(x):\n",
    "    while x.right:\n",
    "        x = x.right\n",
    "    return x\n",
    "\n",
    "def treeMin(x):\n",
    "    while x.left:\n",
    "        x = x.left\n",
    "    return x"
   ]
  },
  {
   "cell_type": "markdown",
   "metadata": {},
   "source": [
    "## 12.3 插入和删除\n",
    "插入:"
   ]
  },
  {
   "cell_type": "code",
   "execution_count": 1,
   "metadata": {},
   "outputs": [],
   "source": [
    "def treeInsert(root,z):\n",
    "    new = TreeNode(z)\n",
    "    while root is not None:\n",
    "        if z > root.key:\n",
    "            if root.right is None:\n",
    "                root.right = new\n",
    "                return\n",
    "            return treeInsert(root.right,z)\n",
    "        if z < root.key:\n",
    "            if root.left is None:\n",
    "                root.left = new\n",
    "                return\n",
    "            return treeInsert(root.left,z)\n",
    "    root = new"
   ]
  },
  {
   "cell_type": "markdown",
   "metadata": {},
   "source": [
    "删除："
   ]
  },
  {
   "cell_type": "code",
   "execution_count": 32,
   "metadata": {},
   "outputs": [],
   "source": [
    "#root = TreeNodeWithParents()\n",
    "\n",
    "def transplant(root,x,y):\n",
    "    if x.parent is None:\n",
    "        root = y\n",
    "    elif x == x.parent.left:\n",
    "        x.parent.left = y\n",
    "    else:\n",
    "        x.parent.right = y\n",
    "    if y:\n",
    "        y.parent = x.parent\n",
    "        \n",
    "def treeDelete(root,x):\n",
    "    if x.left is None:\n",
    "        transplant(root,x,x.right)\n",
    "    elif x.right is None:\n",
    "        transplant(root,x,x.left)\n",
    "    else:\n",
    "        y = treeMin(x.right)\n",
    "        if y.parent != x:\n",
    "            transplant(root,y,y.right)\n",
    "            y.right = x.right\n",
    "            y.right.parent = y\n",
    "        transplant(root,x,y)\n",
    "        y.left = x.left\n",
    "        y.left.parent = y"
   ]
  },
  {
   "cell_type": "code",
   "execution_count": null,
   "metadata": {},
   "outputs": [],
   "source": []
  }
 ],
 "metadata": {
  "kernelspec": {
   "display_name": "Python 3",
   "language": "python",
   "name": "python3"
  },
  "language_info": {
   "codemirror_mode": {
    "name": "ipython",
    "version": 3
   },
   "file_extension": ".py",
   "mimetype": "text/x-python",
   "name": "python",
   "nbconvert_exporter": "python",
   "pygments_lexer": "ipython3",
   "version": "3.7.2"
  }
 },
 "nbformat": 4,
 "nbformat_minor": 2
}
