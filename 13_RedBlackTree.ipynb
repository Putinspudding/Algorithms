{
 "cells": [
  {
   "cell_type": "markdown",
   "metadata": {},
   "source": [
    "## 13.1 红黑树的性质\n",
    "二叉搜索树，每个节点增加存储位表示节点颜色（RED/BLACK)\n",
    "如果一个节点没有子节点和父节点，则该节点相应指针属性的值为 NIL，将这些 NIL 视为指向二叉搜索树的叶节点的指针"
   ]
  },
  {
   "cell_type": "code",
   "execution_count": 1,
   "metadata": {},
   "outputs": [],
   "source": [
    "class treeNode:\n",
    "    def __init__(self,value = None):\n",
    "        self.color = None\n",
    "        self.key = value\n",
    "        self.left = None\n",
    "        self.right = None\n",
    "        self.parent = None\n",
    "        \n",
    "class tree:\n",
    "    def __init__(self):\n",
    "        self.root = None\n",
    "        self.nil = None"
   ]
  },
  {
   "cell_type": "markdown",
   "metadata": {},
   "source": [
    "1. **每个节点或是红色的，或是黑色的**\n",
    "2. **根节点是黑色的**\n",
    "3. **每个叶节点（NIL)是黑色的**\n",
    "4. **如果一个节点是红色的，则它的两个子节点都是黑色的**\n",
    "5. **对每个节点，从该节点到其后代叶节点的简单路径上，均包含相同数目的黑色节点**\n",
    "\n",
    "使用一个哨兵 T.nil 来代表 NIL,T.nil 颜色属性为 BLACK,对于一棵红黑树 T,所有指向 NIL 的指针都用指向 T.nil 的指针替换\n",
    "\n",
    "从某个节点 x 出发（不含该节点）到达一个叶节点的任意一条简单路径上的黑色节点个数称为该节点的**黑高**(black-height)，记为 bh(x)"
   ]
  },
  {
   "cell_type": "markdown",
   "metadata": {},
   "source": [
    "## 13.2 旋转\n",
    "\n",
    "左旋（x 的右节点不为 NIL）:"
   ]
  },
  {
   "cell_type": "code",
   "execution_count": 3,
   "metadata": {},
   "outputs": [],
   "source": [
    "def leftRotate(T:tree,x:treeNode):\n",
    "    y = x.right\n",
    "    x.right = y.left\n",
    "    if y.left != T.nil:\n",
    "        y.left.parent = x\n",
    "    y.parent = x.parent\n",
    "    if x.parent == T.nil:\n",
    "        T.root = y\n",
    "    elif x == x.parent.left:\n",
    "        x.parent.left = y\n",
    "    else:\n",
    "        x.parent.right = y\n",
    "    y.left = x\n",
    "    x.parent = y"
   ]
  },
  {
   "cell_type": "markdown",
   "metadata": {},
   "source": [
    "\n",
    "右旋（x 的左节点不为 NIL）："
   ]
  },
  {
   "cell_type": "code",
   "execution_count": null,
   "metadata": {},
   "outputs": [],
   "source": [
    "def rightRotate(T:tree,x:treeNode):\n",
    "    y = x.left\n",
    "    x.left = y.right\n",
    "    if y.right != T.nil:\n",
    "        y.right.parent = x\n",
    "    y.parent = x.parent\n",
    "    if x.parent == T.nil:\n",
    "        T.root = y\n",
    "    elif x == x.parent.left:\n",
    "        x.parent.left = y\n",
    "    else:\n",
    "        x.parent.right = y\n",
    "    y.right = x\n",
    "    x.parent = y"
   ]
  },
  {
   "cell_type": "markdown",
   "metadata": {},
   "source": [
    "## 13.3 插入\n"
   ]
  },
  {
   "cell_type": "code",
   "execution_count": null,
   "metadata": {},
   "outputs": [],
   "source": [
    "def RBInsert(T:tree,z:treeNode):\n",
    "    y = T.nil\n",
    "    x = T.root\n",
    "    while x != T.nil:\n",
    "        y = x\n",
    "        if z.key < x.key:\n",
    "            x = x.left\n",
    "        else:\n",
    "            x = x.right\n",
    "    z.parent = y\n",
    "    if y == T.nil:\n",
    "        T.root = z\n",
    "    elif z.key < y.key:\n",
    "        y.left = z\n",
    "    else:\n",
    "        y.right = z\n",
    "    z.left = T.nil\n",
    "    z.right = T.nil\n",
    "    z.color = \"RED\"\n",
    "    RBInsertFix(T,z)\n",
    "    \n",
    "    \n",
    "def RBInsertFix(T,z):\n",
    "    while z.parent.color is \"RED\":\n",
    "        if z.parent == z.parent.parent.left:\n",
    "            y = z.parent.parent.right\n",
    "            if y.color is \"RED\":\n",
    "                z.parent.color = \"BLACK\"\n",
    "                y.color = \"BLACK\"\n",
    "                z.parent.parent.color = \"RED\"\n",
    "                z = z.parent.parent\n",
    "            elif z == z.parent.right:\n",
    "                z = z.parent\n",
    "                leftRotate(T,z)\n",
    "            z.parent.color = \"BLACK\"\n",
    "            z.parent.parent.color = \"RED\"\n",
    "            rightRotate(T,z.parent.parent)\n",
    "        else:\n",
    "            y = z.parent.parent.left\n",
    "            if y.color is \"RED\":\n",
    "                z.parent.color = \"BLACK\"\n",
    "                y.color = \"BLACK\"\n",
    "                z.parent.parent.color = \"RED\"\n",
    "                z = z.parent.parent\n",
    "            elif z == z.parent.left:\n",
    "                z = z.parent\n",
    "                rightRotate(T,z)\n",
    "            z.parent.color = \"BLACK\"\n",
    "            z.parent.parent.color = \"RED\"\n",
    "            leftRotate(T,z.parent.parent)\n",
    "    T.root.color = \"BLACK\""
   ]
  }
 ],
 "metadata": {
  "kernelspec": {
   "display_name": "Python 3",
   "language": "python",
   "name": "python3"
  },
  "language_info": {
   "codemirror_mode": {
    "name": "ipython",
    "version": 3
   },
   "file_extension": ".py",
   "mimetype": "text/x-python",
   "name": "python",
   "nbconvert_exporter": "python",
   "pygments_lexer": "ipython3",
   "version": "3.7.2"
  }
 },
 "nbformat": 4,
 "nbformat_minor": 2
}
