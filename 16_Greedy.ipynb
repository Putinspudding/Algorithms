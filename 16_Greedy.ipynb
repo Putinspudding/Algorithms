{
 "cells": [
  {
   "cell_type": "markdown",
   "metadata": {},
   "source": [
    "## 16.1 活动选择问题\n",
    "假定有一个 n 个活动的集合 S = {${a_1,a_2,...,a_n}$},这些活动都使用同一个资源，而这个资源在某个时刻只能供一个活动使用。每个活动  $a_i$ 都有一个开始时间 $s_i$ 和一个结束时间 $f_i$ ,其中 $0 \\le s_i < f_i < \\infty$ ，若被选中，任务 $a_i$ 发生在区间 $[s_i,f_i)$ 期间。如果两个活动开始时间和结束时间不重叠，则称它们是兼容的。在活动选择问题中，希望选出一个最大兼容活动集。假定活动已按结束时间的单调递增序列排序：$$ f_1 \\le f_2 \\le f_3 \\le ... \\le f_n $$"
   ]
  },
  {
   "cell_type": "markdown",
   "metadata": {},
   "source": [
    "| i | 1 | 2 | 3 | 4 | 5 | 6 | 7 | 8 | 9 | 10 | 11 |\n",
    "| :-: | :-: | :-: | :-: | :-: | :-: | :-: | :-: | :-: | :-: | :-: | :-: |\n",
    "| ${s_i}$ | 1 | 3 | 0 | 5 | 3 | 5 | 6 | 8 | 8 | 2 | 12 |\n",
    "| ${f_i}$ | 4 | 5 | 6 | 7 | 9 | 9 | 10 | 11 | 12 | 14 | 16 |"
   ]
  },
  {
   "cell_type": "markdown",
   "metadata": {},
   "source": [
    "$S_{ij}$ 表示活动 $a_i$ 结束之后开始到 $a_j$ 开始之间结束的集合 ，假设 $a_k$ 在 $S_{ij}$ 中  \n",
    "如果用 $c[i,j]$ 表示集合 $S_{ij}$ 的最优解的大小，可得递归式 $$ c[i,j]=c[i,k]+c[k,j]+1 $$\n",
    "如果不知道 $S_{ij}$ 最优解包含活动 $a_k$ ，则\n",
    "$$ c[i,j]=\n",
    "\\begin{cases}\n",
    "0& \\ S_{ij}= \\emptyset \\\\\n",
    "\\max\\limits_{a_k \\in S_{ij}}\\{c[i,k]+c[k,j]+1\\}& \\ S_{ij} \\ne \\emptyset\\\\\n",
    "\\end{cases}$$"
   ]
  },
  {
   "cell_type": "markdown",
   "metadata": {},
   "source": [
    "直观上，应选择一个活动，选出后剩下的资源能被尽可能多的其他任务应用。因此选择 S 中最早结束的活动，因为活动已经按结束时间单调递增排序，所以贪心选择活动 $a_1$。  \n",
    "因为$s_i<f_i$ 且 $a_1$ 是最早结束的活动，所以不存在活动结束时间早于 $s_1$ ，因此所有于 $a_1$ 兼容的活动都必须在 $a_1$ 结束之后开始。"
   ]
  },
  {
   "cell_type": "code",
   "execution_count": 7,
   "metadata": {},
   "outputs": [
    {
     "data": {
      "text/plain": [
       "[[1, 4], [5, 7], [8, 11], [12, 16]]"
      ]
     },
     "execution_count": 7,
     "metadata": {},
     "output_type": "execute_result"
    }
   ],
   "source": [
    "a = [[1,4],[3,5],[0,6],[5,7],[3,9],[5,9],[6,10],[8,11],[8,12],[2,14],[12,16]]\n",
    "\n",
    "def contain(a):\n",
    "    n = len(a)\n",
    "    arr = [a[0]]\n",
    "    end = a[0][0]\n",
    "    k = 0\n",
    "    for i in range(1,n):\n",
    "        if a[i][0]>=a[k][1]:\n",
    "            arr += [a[i]]\n",
    "            k = i\n",
    "    return arr\n",
    "contain(a)"
   ]
  },
  {
   "cell_type": "markdown",
   "metadata": {},
   "source": [
    "### 练习  \n",
    "16.1-2 选择最晚开始的活动进行贪心。"
   ]
  },
  {
   "cell_type": "code",
   "execution_count": 10,
   "metadata": {},
   "outputs": [
    {
     "data": {
      "text/plain": [
       "[[1, 4], [5, 7], [8, 11], [12, 16]]"
      ]
     },
     "execution_count": 10,
     "metadata": {},
     "output_type": "execute_result"
    }
   ],
   "source": [
    "a = [[1,4],[3,5],[0,6],[5,7],[3,9],[5,9],[6,10],[8,11],[8,12],[2,14],[12,16]]\n",
    "def contain(a):\n",
    "    n = len(a)\n",
    "    a.sort(key = lambda k : -k[0])\n",
    "    arr = [a[0]]\n",
    "    start = a[0][0]\n",
    "    k = 0\n",
    "    for i in range(1,n):\n",
    "        if a[i][1] < a[k][0]:\n",
    "            arr = [a[i]] + arr\n",
    "            k = i\n",
    "    return arr\n",
    "contain(a)"
   ]
  },
  {
   "cell_type": "markdown",
   "metadata": {},
   "source": [
    "## 16.2 贪心算法原理  \n",
    "贪心算法设计步骤： \n",
    "1.将最优化问题转化为这样的形式：对其做出一次选择后，只剩下一个子问题需要求解。  \n",
    "2.证明做出贪心选择后，原问题总是存在最优解\n",
    "3.证明做出贪心选择后，剩余子问题满足性质：其最优解于贪心选择组合即可得到原问题的最优解\n",
    "\n",
    "**贪心选择性质**  \n",
    "通过局部最优解来构造全局最优解  \n",
    "**最优子结构**  \n",
    "一个问题的最优解包含其子问题的最优解"
   ]
  },
  {
   "cell_type": "markdown",
   "metadata": {},
   "source": [
    "### 练习\n",
    "16.2-2 用动态规划算法求解 0-1 背包问题（因为不满足贪心条件），要求运行时间为 O(nW) , n 为商品数量， W 是小偷能放进背包的最大商品总重量"
   ]
  },
  {
   "cell_type": "code",
   "execution_count": 20,
   "metadata": {},
   "outputs": [
    {
     "data": {
      "text/plain": [
       "[[0, 0, 0, 0, 0],\n",
       " [0, 2000, 2000, 2000, 2000],\n",
       " [0, 2000, 3500, 3500, 3500],\n",
       " [0, 2000, 3500, 3500, 3500]]"
      ]
     },
     "execution_count": 20,
     "metadata": {},
     "output_type": "execute_result"
    }
   ],
   "source": [
    "def bag(goods,W):\n",
    "    n = len(goods)\n",
    "    goods = [[0,0]]+goods\n",
    "    dp = [[0 for col in range(W+1)] for row in range(n+1)]\n",
    "    if goods[1][0] <= W:\n",
    "        for i in range(1,W+1):\n",
    "            dp[1][i] = goods[1][1]\n",
    "    for row in range(2,n+1):\n",
    "        for col in range(1,W+1):\n",
    "            if col < goods[row][0]:\n",
    "                dp[row][col] = dp[row-1][col]\n",
    "            else:\n",
    "                dp[row][col] = max(dp[row-1][col],goods[row][1]+dp[row-1][col-goods[row][0]])\n",
    "    return dp\n",
    "\n",
    "goods = [[3,2000],[1,1500],[4,3000]]\n",
    "W = 4\n",
    "bag(goods,W)"
   ]
  },
  {
   "cell_type": "markdown",
   "metadata": {},
   "source": [
    "## 16.3 赫夫曼编码\n",
    "给定 S 表示字符与其出现频率，构造满二叉树"
   ]
  },
  {
   "cell_type": "code",
   "execution_count": 13,
   "metadata": {},
   "outputs": [
    {
     "name": "stdout",
     "output_type": "stream",
     "text": [
      "[('a', 45), ('b', 13), ('c', 12), ('d', 16), ('e', 9), ('f', 5)]\n",
      "('a', 45)\n",
      "('cbfed', 55)\n"
     ]
    }
   ],
   "source": [
    "class node:\n",
    "    def __init__(self,x=None):\n",
    "        self.val = x\n",
    "        self.left = None\n",
    "        self.right = None\n",
    "    def __repr__(self):\n",
    "        return str(self.val)\n",
    "S = [node((\"a\",45)),node((\"b\",13)),node((\"c\",12)),node((\"d\",16)),node((\"e\",9)),node((\"f\",5))]\n",
    "def huff(S):\n",
    "    while len(S)>1:\n",
    "        S.sort(key = lambda k:-(k.val[1]))\n",
    "        left = S.pop()\n",
    "        right = S.pop()\n",
    "        temp = node((left.val[0]+right.val[0],left.val[1]+right.val[1]))\n",
    "        temp.left = left\n",
    "        temp.right = right\n",
    "        S.append(temp)\n",
    "    return S[0]\n",
    "    \n",
    "print(S)\n",
    "result = huff(S)\n",
    "print(result.left)\n",
    "print(result.right)"
   ]
  },
  {
   "cell_type": "markdown",
   "metadata": {},
   "source": [
    "### 练习\n",
    "16.3-7 三叉哈夫曼树"
   ]
  },
  {
   "cell_type": "code",
   "execution_count": 16,
   "metadata": {},
   "outputs": [
    {
     "name": "stdout",
     "output_type": "stream",
     "text": [
      "[('a', 45), ('b', 13), ('c', 12), ('d', 16), ('e', 9), ('f', 5)]\n",
      "[('a', 45), ('d', 16), ('b', 13), ('c', 12), ('fe', 14)]\n",
      "[('a', 45), ('d', 16), ('cbfe', 39)]\n"
     ]
    },
    {
     "data": {
      "text/plain": [
       "('dcbfea', 100)"
      ]
     },
     "execution_count": 16,
     "metadata": {},
     "output_type": "execute_result"
    }
   ],
   "source": [
    "class node:\n",
    "    def __init__(self,x=None):\n",
    "        self.val = x\n",
    "        self.left = None\n",
    "        self.middle = None\n",
    "        self.right = None\n",
    "    def __repr__(self):\n",
    "        return str(self.val)\n",
    "S = [node((\"a\",45)),node((\"b\",13)),node((\"c\",12)),node((\"d\",16)),node((\"e\",9)),node((\"f\",5))]\n",
    "def trihuff(S):\n",
    "    while len(S)>1:\n",
    "        print(S)\n",
    "        if len(S)%2 == 0:\n",
    "            S.sort(key = lambda k:-(k.val[1]))\n",
    "            left = S.pop()\n",
    "            right = S.pop()\n",
    "            temp = node((left.val[0]+right.val[0],left.val[1]+right.val[1]))\n",
    "            temp.left = left\n",
    "            temp.right = right\n",
    "            S.append(temp)\n",
    "        else:\n",
    "            S.sort(key = lambda k:-(k.val[1]))\n",
    "            left = S.pop()\n",
    "            middle = S.pop()\n",
    "            right = S.pop()\n",
    "            temp = node((left.val[0]+middle.val[0]+right.val[0],left.val[1]+middle.val[1]+right.val[1]))\n",
    "            temp.left = left\n",
    "            temp.middle = middle\n",
    "            temp.right = right\n",
    "            S.append(temp)\n",
    "    return S[0]\n",
    "trihuff(S)"
   ]
  },
  {
   "cell_type": "markdown",
   "metadata": {},
   "source": [
    "## 思考题  \n",
    "16-1用最少的硬币找n美分零钱的问题。假定每种硬币的面额都是整数。\n",
    "> a.设计贪心算法求解找零问题，假定有25美分、10美分、5美分、和1美分四种面额的硬币。  \n",
    "> d.设计一个 $O(nk)$ 时间的找零算法，适用于任何 k 种不同面额的硬币，假定总是包含 1 美分硬币"
   ]
  },
  {
   "cell_type": "code",
   "execution_count": 49,
   "metadata": {},
   "outputs": [
    {
     "data": {
      "text/plain": [
       "[0, 1, 1, 3]"
      ]
     },
     "execution_count": 49,
     "metadata": {},
     "output_type": "execute_result"
    }
   ],
   "source": [
    "#a\n",
    "def change(n):\n",
    "    answer = [0,0,0,0]\n",
    "    money = [25,10,5,1]\n",
    "    i = 0\n",
    "    while n > 0:\n",
    "        if n < money[i]:\n",
    "            i += 1\n",
    "            continue\n",
    "        else:\n",
    "            answer[i] = n//money[i]\n",
    "            n = n - answer[i]*money[i]\n",
    "            i += 1\n",
    "    return answer\n",
    "change(18)"
   ]
  },
  {
   "cell_type": "code",
   "execution_count": 48,
   "metadata": {
    "scrolled": true
   },
   "outputs": [
    {
     "data": {
      "text/plain": [
       "[[0, 0, 0, 0, 0, 0, 0, 0, 0, 0, 0, 0, 0, 0, 0, 0, 0, 0, 0],\n",
       " [0, 1, 2, 3, 4, 5, 6, 7, 8, 9, 10, 11, 12, 13, 14, 15, 16, 17, 18],\n",
       " [0, 1, 2, 3, 4, 1, 2, 3, 4, 5, 2, 3, 4, 5, 6, 3, 4, 5, 6],\n",
       " [0, 1, 2, 3, 4, 1, 2, 3, 4, 5, 1, 2, 3, 4, 5, 2, 3, 4, 5],\n",
       " [0, 1, 2, 3, 4, 1, 2, 3, 4, 5, 1, 2, 3, 4, 5, 2, 3, 4, 5]]"
      ]
     },
     "execution_count": 48,
     "metadata": {},
     "output_type": "execute_result"
    }
   ],
   "source": [
    "#d\n",
    "def change(n,money):\n",
    "    m = len(money)\n",
    "    money = [0] + money\n",
    "    dp = [[0 for col in range(n+1)]for row in range(m+1)]\n",
    "    for j in range(1,n+1):\n",
    "        dp[1][j] = j\n",
    "    for i in range(2,m+1):\n",
    "        for j in range(1,n+1):\n",
    "            answer = dp[i-1][j]\n",
    "            times = 0\n",
    "            temp = j\n",
    "            if j%money[i] == 0:\n",
    "                answer = j//money[i]\n",
    "            else:\n",
    "                while money[i] < j:\n",
    "                    j -= money[i]\n",
    "                    times += 1\n",
    "                    if j > money[i]:\n",
    "                        answer = min(answer,times+dp[i-1][j])\n",
    "                    else:\n",
    "                        answer = min(answer,times+dp[i][j])\n",
    "            j = temp\n",
    "            dp[i][j] = answer\n",
    "    return dp\n",
    "\n",
    "change(18,[1,5,10,25])\n",
    "                "
   ]
  },
  {
   "cell_type": "code",
   "execution_count": null,
   "metadata": {},
   "outputs": [],
   "source": []
  }
 ],
 "metadata": {
  "kernelspec": {
   "display_name": "Python 3",
   "language": "python",
   "name": "python3"
  },
  "language_info": {
   "codemirror_mode": {
    "name": "ipython",
    "version": 3
   },
   "file_extension": ".py",
   "mimetype": "text/x-python",
   "name": "python",
   "nbconvert_exporter": "python",
   "pygments_lexer": "ipython3",
   "version": "3.7.2"
  }
 },
 "nbformat": 4,
 "nbformat_minor": 2
}
