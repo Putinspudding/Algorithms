{
 "cells": [
  {
   "cell_type": "markdown",
   "metadata": {},
   "source": [
    "## 22.1 图的表示  \n",
    "**邻阶矩阵**与**邻接表**  \n",
    "  \n",
    "## 22.2 广度优先搜索 BFS\n",
    "Prim 最小生成树算法与 Dijkstra 单源最短路径算法  \n",
    "  \n",
    "  \n",
    "给定图 $ G \\ = \\ (V,E) $ 和一个可识别的源节点 $s$,广度优先搜索对图 $G$ 中的边进行系统性的探索来发现可以从源结点 $s$ 到达的所有结点。该算法能够计算从源结点 $s$ 到每个可到达的结点的距离（最少的边数），同时生成一棵广度优先搜索树。该树以源结点 $s$ 为根结点，包含所有可以从 $s$ 到达的结点。对于每个从源结点 $s$ 可以到达的结点 $v$，在广度优先搜索树里的从结点 $s$ 到结点 $v$ 的简单路径所对应的就是图 $G$ 中从结点 $s$ 到结点 $v$ 的“最短路径”，即包含最少边数的路径。"
   ]
  },
  {
   "cell_type": "markdown",
   "metadata": {},
   "source": [
    "邻接矩阵 BFS"
   ]
  },
  {
   "cell_type": "markdown",
   "metadata": {},
   "source": [
    "![graph1](./graph1.png)"
   ]
  },
  {
   "cell_type": "code",
   "execution_count": 2,
   "metadata": {},
   "outputs": [],
   "source": [
    "G = [\n",
    "    [0,1,0,0,0,1,0,0],\n",
    "    [1,0,0,0,1,0,0,0],\n",
    "    [0,0,0,1,0,1,1,0],\n",
    "    [0,0,1,0,0,0,1,1],\n",
    "    [0,1,0,0,0,0,0,0],\n",
    "    [1,0,1,0,0,0,1,0],\n",
    "    [0,0,1,1,0,1,0,1],\n",
    "    [0,0,0,1,0,0,1,0]\n",
    "]\n",
    "\n",
    "def BFS(G):\n",
    "    length = len(G)\n",
    "    distance = [0]*length\n",
    "    queue = []\n",
    "    prev = [-1]*length\n",
    "    i = 0\n",
    "    queue = [0] + queue\n",
    "    prev[0] = 0\n",
    "    while queue:\n",
    "        u = queue.pop()\n",
    "        for m in range(length):\n",
    "            if G[u][m] == 1 and prev[m] == -1:\n",
    "                distance[m] = distance[u] + 1\n",
    "                prev[m] = u\n",
    "                queue = [m] + queue\n",
    "    return distance,prev\n",
    "\n",
    "d,p = BFS(G)\n",
    "    "
   ]
  },
  {
   "cell_type": "markdown",
   "metadata": {},
   "source": [
    "无权重图中若从源结点 $s$ 到结点 $v$ 的最短路径距离 $\\delta(s,v)$ 为从结点 $s$ 到结点 $v$ 之间所有路径里最少的边数。如果从结点 $s$ 到结点 $v$ 之间没有路径，则 $\\delta(v,s) = \\infty$  \n",
    "  \n",
    "**引理**：  \n",
    "1. 给定 $G=(V,E)$ ， $G$ 为一个有向图或无向图，设 $s\\in V$ 为任意结点，则对于任意边 $(u,v) \\in E$，$\\delta(s,v) \\le \\delta(s,u)+1$  \n",
    "2. 设 $G=(V,E)$ 为一个有向图或无向图，假定 $BFS$ 以给定结点 $s\\in V$ 作为源结点在图 $G$ 上运行。那么在 $BFS$ 终结时，对于每个结点 $v \\in V$， $BFS$ 所计算出的 $s$ 到 $v$ 的距离 $v.d$ 满足 $v.d \\le \\delta(s,v)$  \n",
    "3. 假定 $BFS$ 在图 $G=(V,E)$ 上运行的过程中，队列 $Q$ 包含的结点为 $ \\langle v_0,v_1,...,v_r \\rangle $,这里 $v_0$ 是队列的头， $v_r$ 是队列的尾。那么 $v_r.d \\le v_0.d+1$，且对于 $i=0,1...,r-1$，$v_i.d \\le v_{i+1}.d$\n",
    "4. 设 $G=(V,E)$ 为一个有向图或无向图，假定 $BFS$ 以 $s$ 作为源结点在图 $G$ 上运行。那么在算法执行过程中，$BFS$ 将发现从源结点 $s$ 可以到达的所有结点 $v \\in V$，并在算法终止时，对于所有的 $v \\in V$，$v.d = \\delta(s,v)$。而且，对于任意可以从 $s$ 到达的结点 $v \\ne s$，从源结点 $s$ 到结点 $v$ 其中一条最短路径为从结点 $s$ 到结点 $v$ 的前驱结点 $v.prev$ 的最短路径再加上边 $(v.prev,v)$\n",
    "\n",
    "**推论**：  \n",
    "1. 假定在执行 $BFS$ 时，结点 $v_i$ 和 $v_j$ 都加入到队列 $Q$ 里，且 $v_i$ 在 $v_j$ 之前入队，则在 $v_j$ 入队时，$v_i.d \\le v_j.d$"
   ]
  },
  {
   "cell_type": "markdown",
   "metadata": {},
   "source": [
    "打印 $s$ 到 $v$ 最短路径上的所有结点"
   ]
  },
  {
   "cell_type": "code",
   "execution_count": 13,
   "metadata": {},
   "outputs": [
    {
     "name": "stdout",
     "output_type": "stream",
     "text": [
      "0->5->2->3->"
     ]
    }
   ],
   "source": [
    "def printPath(G,s,v,prev):\n",
    "    if v == s:\n",
    "        print(s,end=\"->\")\n",
    "    elif prev[v] == -1:\n",
    "        print(\"No path from\",s,\"to\",v)\n",
    "    else: \n",
    "        printPath(G,s,prev[v],prev)\n",
    "        print(v,end=\"->\")\n",
    "        \n",
    "printPath(G,0,3,p)"
   ]
  },
  {
   "cell_type": "code",
   "execution_count": null,
   "metadata": {},
   "outputs": [],
   "source": []
  }
 ],
 "metadata": {
  "kernelspec": {
   "display_name": "Python 3",
   "language": "python",
   "name": "python3"
  },
  "language_info": {
   "codemirror_mode": {
    "name": "ipython",
    "version": 3
   },
   "file_extension": ".py",
   "mimetype": "text/x-python",
   "name": "python",
   "nbconvert_exporter": "python",
   "pygments_lexer": "ipython3",
   "version": "3.7.2"
  }
 },
 "nbformat": 4,
 "nbformat_minor": 2
}
